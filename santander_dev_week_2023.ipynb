{
  "nbformat": 4,
  "nbformat_minor": 0,
  "metadata": {
    "colab": {
      "provenance": [],
      "toc_visible": true
    },
    "kernelspec": {
      "name": "python3",
      "display_name": "Python 3"
    },
    "language_info": {
      "name": "python"
    }
  },
  "cells": [
    {
      "cell_type": "markdown",
      "source": [
        "# Santander Dev Week 2023 (ETL com Python)"
      ],
      "metadata": {
        "id": "MQ8eWOVtU5pU"
      }
    },
    {
      "cell_type": "markdown",
      "source": [
        "**Instalando libs**"
      ],
      "metadata": {
        "id": "nDi_u79nVxck"
      }
    },
    {
      "cell_type": "code",
      "source": [
        "pip install pandas"
      ],
      "metadata": {
        "colab": {
          "base_uri": "https://localhost:8080/"
        },
        "id": "rdjkInTDQFlQ",
        "outputId": "14532614-16ae-4895-ef49-8d45a09a5938"
      },
      "execution_count": 2,
      "outputs": [
        {
          "output_type": "stream",
          "name": "stdout",
          "text": [
            "Requirement already satisfied: pandas in /usr/local/lib/python3.10/dist-packages (1.5.3)\n",
            "Requirement already satisfied: python-dateutil>=2.8.1 in /usr/local/lib/python3.10/dist-packages (from pandas) (2.8.2)\n",
            "Requirement already satisfied: pytz>=2020.1 in /usr/local/lib/python3.10/dist-packages (from pandas) (2023.3.post1)\n",
            "Requirement already satisfied: numpy>=1.21.0 in /usr/local/lib/python3.10/dist-packages (from pandas) (1.23.5)\n",
            "Requirement already satisfied: six>=1.5 in /usr/local/lib/python3.10/dist-packages (from python-dateutil>=2.8.1->pandas) (1.16.0)\n"
          ]
        }
      ]
    },
    {
      "cell_type": "markdown",
      "source": [
        "Na etapa de Extração, os dados são obtidos de uma fonte de dados. Isso pode ser um banco de dados, um arquivo, uma API ou qualquer outra fonte que contenha os dados necessários para o processo."
      ],
      "metadata": {
        "id": "oEAsVYlYPwTf"
      }
    },
    {
      "cell_type": "markdown",
      "source": [
        "# Extract"
      ],
      "metadata": {
        "id": "CrdGw2_oarTD"
      }
    },
    {
      "cell_type": "code",
      "source": [
        "import requests\n",
        "\n",
        "# Função para extrair dados da API JSONPlaceholder\n",
        "def extract_data():\n",
        "    url = \"https://jsonplaceholder.typicode.com/posts\"\n",
        "    response = requests.get(url)\n",
        "\n",
        "    if response.status_code == 200:\n",
        "        data = response.json()\n",
        "        return data\n",
        "    else:\n",
        "        print(\"Falha ao extrair dados da API. Código de status:\", response.status_code)\n",
        "        return None\n",
        "\n",
        "# Executar a extração\n",
        "data_extracted = extract_data()\n",
        "\n",
        "# Exibir alguns dados extraídos para verificação\n",
        "if data_extracted:\n",
        "    print(\"Exemplo de dados extraídos:\")\n",
        "    print(data_extracted[:5])  # Exibindo os primeiros 5 registros\n",
        "else:\n",
        "    print(\"Extração falhou. Não foram obtidos dados.\")\n"
      ],
      "metadata": {
        "colab": {
          "base_uri": "https://localhost:8080/"
        },
        "id": "3e3iJSNlVpDc",
        "outputId": "8c0c47ac-3d38-4a0d-db83-bd8c6f842836"
      },
      "execution_count": 3,
      "outputs": [
        {
          "output_type": "stream",
          "name": "stdout",
          "text": [
            "Exemplo de dados extraídos:\n",
            "[{'userId': 1, 'id': 1, 'title': 'sunt aut facere repellat provident occaecati excepturi optio reprehenderit', 'body': 'quia et suscipit\\nsuscipit recusandae consequuntur expedita et cum\\nreprehenderit molestiae ut ut quas totam\\nnostrum rerum est autem sunt rem eveniet architecto'}, {'userId': 1, 'id': 2, 'title': 'qui est esse', 'body': 'est rerum tempore vitae\\nsequi sint nihil reprehenderit dolor beatae ea dolores neque\\nfugiat blanditiis voluptate porro vel nihil molestiae ut reiciendis\\nqui aperiam non debitis possimus qui neque nisi nulla'}, {'userId': 1, 'id': 3, 'title': 'ea molestias quasi exercitationem repellat qui ipsa sit aut', 'body': 'et iusto sed quo iure\\nvoluptatem occaecati omnis eligendi aut ad\\nvoluptatem doloribus vel accusantium quis pariatur\\nmolestiae porro eius odio et labore et velit aut'}, {'userId': 1, 'id': 4, 'title': 'eum et est occaecati', 'body': 'ullam et saepe reiciendis voluptatem adipisci\\nsit amet autem assumenda provident rerum culpa\\nquis hic commodi nesciunt rem tenetur doloremque ipsam iure\\nquis sunt voluptatem rerum illo velit'}, {'userId': 1, 'id': 5, 'title': 'nesciunt quas odio', 'body': 'repudiandae veniam quaerat sunt sed\\nalias aut fugiat sit autem sed est\\nvoluptatem omnis possimus esse voluptatibus quis\\nest aut tenetur dolor neque'}]\n"
          ]
        }
      ]
    },
    {
      "cell_type": "markdown",
      "source": [
        "# Transform\n"
      ],
      "metadata": {
        "id": "I_WHxyEJaQkM"
      }
    },
    {
      "cell_type": "markdown",
      "source": [
        "Vamos usar os dados extraídos a partir da função de extração e aplicar a transformação para renomear colunas e criar um DataFrame"
      ],
      "metadata": {
        "id": "U1HG3qxaWwdD"
      }
    },
    {
      "cell_type": "code",
      "source": [
        "import pandas as pd\n",
        "\n",
        "# Função para transformar os dados (renomear colunas e converter para DataFrame)\n",
        "def transform_data(data):\n",
        "    # Renomear colunas\n",
        "    transformed_data = pd.DataFrame(data)\n",
        "    transformed_data = transformed_data.rename(columns={'userId': 'user_id', 'id': 'post_id'})\n",
        "    return transformed_data\n",
        "\n",
        "\n",
        "# Transformar os dados e criar um DataFrame\n",
        "data_transformed = transform_data(data_extracted)\n",
        "\n",
        "# Exibir dados transformados\n",
        "print(\"Exemplo de dados transformados:\")\n",
        "print(data_transformed.head())"
      ],
      "metadata": {
        "colab": {
          "base_uri": "https://localhost:8080/"
        },
        "id": "KKWWM7pWW7nb",
        "outputId": "8f8442a3-2705-4a1a-fa97-ac581158867c"
      },
      "execution_count": 6,
      "outputs": [
        {
          "output_type": "stream",
          "name": "stdout",
          "text": [
            "Exemplo de dados transformados:\n",
            "   user_id  post_id                                              title  \\\n",
            "0        1        1  sunt aut facere repellat provident occaecati e...   \n",
            "1        1        2                                       qui est esse   \n",
            "2        1        3  ea molestias quasi exercitationem repellat qui...   \n",
            "3        1        4                               eum et est occaecati   \n",
            "4        1        5                                 nesciunt quas odio   \n",
            "\n",
            "                                                body  \n",
            "0  quia et suscipit\\nsuscipit recusandae consequu...  \n",
            "1  est rerum tempore vitae\\nsequi sint nihil repr...  \n",
            "2  et iusto sed quo iure\\nvoluptatem occaecati om...  \n",
            "3  ullam et saepe reiciendis voluptatem adipisci\\...  \n",
            "4  repudiandae veniam quaerat sunt sed\\nalias aut...  \n"
          ]
        }
      ]
    },
    {
      "cell_type": "markdown",
      "source": [
        "Vamos utilizar o dataframe para gerar um arquivo xlsx (Excel) com os dados já atualizados."
      ],
      "metadata": {
        "id": "-V_wiS1fZfDV"
      }
    },
    {
      "cell_type": "markdown",
      "source": [
        "# Load\n"
      ],
      "metadata": {
        "id": "5VTtoD1paeoM"
      }
    },
    {
      "cell_type": "code",
      "source": [
        "# Função para carregar os dados transformados em um arquivo Excel (xlsx)\n",
        "def load_data_excel(data, file_path):\n",
        "    data.to_excel(file_path, index=False)\n",
        "    print(f'Dados carregados em {file_path}')\n",
        "\n",
        "# Caminho onde os dados transformados serão salvos em xlsx\n",
        "arquivo_xlsx_transformado = 'dados_transformados.xlsx'\n",
        "\n",
        "# Carregar os dados transformados em um arquivo Excel (xlsx)\n",
        "load_data_excel(data_transformed, arquivo_xlsx_transformado)"
      ],
      "metadata": {
        "colab": {
          "base_uri": "https://localhost:8080/"
        },
        "id": "AjNVfTpkZMKm",
        "outputId": "a592897c-931c-4bc3-e6cd-d4750982f430"
      },
      "execution_count": 7,
      "outputs": [
        {
          "output_type": "stream",
          "name": "stdout",
          "text": [
            "Dados carregados em dados_transformados.xlsx\n"
          ]
        }
      ]
    }
  ]
}